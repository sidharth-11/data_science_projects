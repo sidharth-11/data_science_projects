{
 "cells": [
  {
   "cell_type": "code",
   "execution_count": 1,
   "id": "003df232",
   "metadata": {
    "execution": {
     "iopub.execute_input": "2022-08-31T15:33:46.563512Z",
     "iopub.status.busy": "2022-08-31T15:33:46.562951Z",
     "iopub.status.idle": "2022-08-31T15:33:47.613527Z",
     "shell.execute_reply": "2022-08-31T15:33:47.612511Z"
    },
    "papermill": {
     "duration": 1.100533,
     "end_time": "2022-08-31T15:33:47.616108",
     "exception": false,
     "start_time": "2022-08-31T15:33:46.515575",
     "status": "completed"
    },
    "tags": []
   },
   "outputs": [
    {
     "name": "stdout",
     "output_type": "stream",
     "text": [
      "/kaggle/input/us-accidents/US_Accidents_Dec21_updated.csv\n"
     ]
    }
   ],
   "source": [
    "import numpy as np \n",
    "import pandas as pd\n",
    "import seaborn as sns\n",
    "import matplotlib.pyplot as plt\n",
    "%matplotlib inline\n",
    "\n",
    "# Input data files are available in the read-only \"../input/\" directory\n",
    "# For example, running this (by clicking run or pressing Shift+Enter) will list all files under the input directory\n",
    "\n",
    "import os\n",
    "for dirname, _, filenames in os.walk('/kaggle/input'):\n",
    "    for filename in filenames:\n",
    "        print(os.path.join(dirname, filename))\n"
   ]
  },
  {
   "cell_type": "markdown",
   "id": "81bb9528",
   "metadata": {
    "papermill": {
     "duration": 0.047123,
     "end_time": "2022-08-31T15:33:47.708702",
     "exception": false,
     "start_time": "2022-08-31T15:33:47.661579",
     "status": "completed"
    },
    "tags": []
   },
   "source": [
    "# Import the dataset and load the file"
   ]
  },
  {
   "cell_type": "code",
   "execution_count": 2,
   "id": "86e0dec3",
   "metadata": {
    "execution": {
     "iopub.execute_input": "2022-08-31T15:33:47.799033Z",
     "iopub.status.busy": "2022-08-31T15:33:47.798728Z",
     "iopub.status.idle": "2022-08-31T15:33:47.802846Z",
     "shell.execute_reply": "2022-08-31T15:33:47.801954Z"
    },
    "papermill": {
     "duration": 0.051794,
     "end_time": "2022-08-31T15:33:47.804865",
     "exception": false,
     "start_time": "2022-08-31T15:33:47.753071",
     "status": "completed"
    },
    "tags": []
   },
   "outputs": [],
   "source": [
    "my_filepath = '../input/us-accidents/US_Accidents_Dec21_updated.csv'"
   ]
  },
  {
   "cell_type": "code",
   "execution_count": 3,
   "id": "98e29d55",
   "metadata": {
    "execution": {
     "iopub.execute_input": "2022-08-31T15:33:47.895699Z",
     "iopub.status.busy": "2022-08-31T15:33:47.895021Z",
     "iopub.status.idle": "2022-08-31T15:34:31.549517Z",
     "shell.execute_reply": "2022-08-31T15:34:31.548603Z"
    },
    "papermill": {
     "duration": 43.748539,
     "end_time": "2022-08-31T15:34:31.597682",
     "exception": false,
     "start_time": "2022-08-31T15:33:47.849143",
     "status": "completed"
    },
    "tags": []
   },
   "outputs": [
    {
     "data": {
      "text/html": [
       "<div>\n",
       "<style scoped>\n",
       "    .dataframe tbody tr th:only-of-type {\n",
       "        vertical-align: middle;\n",
       "    }\n",
       "\n",
       "    .dataframe tbody tr th {\n",
       "        vertical-align: top;\n",
       "    }\n",
       "\n",
       "    .dataframe thead th {\n",
       "        text-align: right;\n",
       "    }\n",
       "</style>\n",
       "<table border=\"1\" class=\"dataframe\">\n",
       "  <thead>\n",
       "    <tr style=\"text-align: right;\">\n",
       "      <th></th>\n",
       "      <th>ID</th>\n",
       "      <th>Severity</th>\n",
       "      <th>Start_Time</th>\n",
       "      <th>End_Time</th>\n",
       "      <th>Start_Lat</th>\n",
       "      <th>Start_Lng</th>\n",
       "      <th>End_Lat</th>\n",
       "      <th>End_Lng</th>\n",
       "      <th>Distance(mi)</th>\n",
       "      <th>Description</th>\n",
       "      <th>...</th>\n",
       "      <th>Roundabout</th>\n",
       "      <th>Station</th>\n",
       "      <th>Stop</th>\n",
       "      <th>Traffic_Calming</th>\n",
       "      <th>Traffic_Signal</th>\n",
       "      <th>Turning_Loop</th>\n",
       "      <th>Sunrise_Sunset</th>\n",
       "      <th>Civil_Twilight</th>\n",
       "      <th>Nautical_Twilight</th>\n",
       "      <th>Astronomical_Twilight</th>\n",
       "    </tr>\n",
       "  </thead>\n",
       "  <tbody>\n",
       "    <tr>\n",
       "      <th>0</th>\n",
       "      <td>A-1</td>\n",
       "      <td>3</td>\n",
       "      <td>2016-02-08 00:37:08</td>\n",
       "      <td>2016-02-08 06:37:08</td>\n",
       "      <td>40.108910</td>\n",
       "      <td>-83.092860</td>\n",
       "      <td>40.112060</td>\n",
       "      <td>-83.031870</td>\n",
       "      <td>3.230</td>\n",
       "      <td>Between Sawmill Rd/Exit 20 and OH-315/Olentang...</td>\n",
       "      <td>...</td>\n",
       "      <td>False</td>\n",
       "      <td>False</td>\n",
       "      <td>False</td>\n",
       "      <td>False</td>\n",
       "      <td>False</td>\n",
       "      <td>False</td>\n",
       "      <td>Night</td>\n",
       "      <td>Night</td>\n",
       "      <td>Night</td>\n",
       "      <td>Night</td>\n",
       "    </tr>\n",
       "    <tr>\n",
       "      <th>1</th>\n",
       "      <td>A-2</td>\n",
       "      <td>2</td>\n",
       "      <td>2016-02-08 05:56:20</td>\n",
       "      <td>2016-02-08 11:56:20</td>\n",
       "      <td>39.865420</td>\n",
       "      <td>-84.062800</td>\n",
       "      <td>39.865010</td>\n",
       "      <td>-84.048730</td>\n",
       "      <td>0.747</td>\n",
       "      <td>At OH-4/OH-235/Exit 41 - Accident.</td>\n",
       "      <td>...</td>\n",
       "      <td>False</td>\n",
       "      <td>False</td>\n",
       "      <td>False</td>\n",
       "      <td>False</td>\n",
       "      <td>False</td>\n",
       "      <td>False</td>\n",
       "      <td>Night</td>\n",
       "      <td>Night</td>\n",
       "      <td>Night</td>\n",
       "      <td>Night</td>\n",
       "    </tr>\n",
       "    <tr>\n",
       "      <th>2</th>\n",
       "      <td>A-3</td>\n",
       "      <td>2</td>\n",
       "      <td>2016-02-08 06:15:39</td>\n",
       "      <td>2016-02-08 12:15:39</td>\n",
       "      <td>39.102660</td>\n",
       "      <td>-84.524680</td>\n",
       "      <td>39.102090</td>\n",
       "      <td>-84.523960</td>\n",
       "      <td>0.055</td>\n",
       "      <td>At I-71/US-50/Exit 1 - Accident.</td>\n",
       "      <td>...</td>\n",
       "      <td>False</td>\n",
       "      <td>False</td>\n",
       "      <td>False</td>\n",
       "      <td>False</td>\n",
       "      <td>False</td>\n",
       "      <td>False</td>\n",
       "      <td>Night</td>\n",
       "      <td>Night</td>\n",
       "      <td>Night</td>\n",
       "      <td>Day</td>\n",
       "    </tr>\n",
       "    <tr>\n",
       "      <th>3</th>\n",
       "      <td>A-4</td>\n",
       "      <td>2</td>\n",
       "      <td>2016-02-08 06:51:45</td>\n",
       "      <td>2016-02-08 12:51:45</td>\n",
       "      <td>41.062130</td>\n",
       "      <td>-81.537840</td>\n",
       "      <td>41.062170</td>\n",
       "      <td>-81.535470</td>\n",
       "      <td>0.123</td>\n",
       "      <td>At Dart Ave/Exit 21 - Accident.</td>\n",
       "      <td>...</td>\n",
       "      <td>False</td>\n",
       "      <td>False</td>\n",
       "      <td>False</td>\n",
       "      <td>False</td>\n",
       "      <td>False</td>\n",
       "      <td>False</td>\n",
       "      <td>Night</td>\n",
       "      <td>Night</td>\n",
       "      <td>Day</td>\n",
       "      <td>Day</td>\n",
       "    </tr>\n",
       "    <tr>\n",
       "      <th>4</th>\n",
       "      <td>A-5</td>\n",
       "      <td>3</td>\n",
       "      <td>2016-02-08 07:53:43</td>\n",
       "      <td>2016-02-08 13:53:43</td>\n",
       "      <td>39.172393</td>\n",
       "      <td>-84.492792</td>\n",
       "      <td>39.170476</td>\n",
       "      <td>-84.501798</td>\n",
       "      <td>0.500</td>\n",
       "      <td>At Mitchell Ave/Exit 6 - Accident.</td>\n",
       "      <td>...</td>\n",
       "      <td>False</td>\n",
       "      <td>False</td>\n",
       "      <td>False</td>\n",
       "      <td>False</td>\n",
       "      <td>False</td>\n",
       "      <td>False</td>\n",
       "      <td>Day</td>\n",
       "      <td>Day</td>\n",
       "      <td>Day</td>\n",
       "      <td>Day</td>\n",
       "    </tr>\n",
       "  </tbody>\n",
       "</table>\n",
       "<p>5 rows × 47 columns</p>\n",
       "</div>"
      ],
      "text/plain": [
       "    ID  Severity           Start_Time             End_Time  Start_Lat  \\\n",
       "0  A-1         3  2016-02-08 00:37:08  2016-02-08 06:37:08  40.108910   \n",
       "1  A-2         2  2016-02-08 05:56:20  2016-02-08 11:56:20  39.865420   \n",
       "2  A-3         2  2016-02-08 06:15:39  2016-02-08 12:15:39  39.102660   \n",
       "3  A-4         2  2016-02-08 06:51:45  2016-02-08 12:51:45  41.062130   \n",
       "4  A-5         3  2016-02-08 07:53:43  2016-02-08 13:53:43  39.172393   \n",
       "\n",
       "   Start_Lng    End_Lat    End_Lng  Distance(mi)  \\\n",
       "0 -83.092860  40.112060 -83.031870         3.230   \n",
       "1 -84.062800  39.865010 -84.048730         0.747   \n",
       "2 -84.524680  39.102090 -84.523960         0.055   \n",
       "3 -81.537840  41.062170 -81.535470         0.123   \n",
       "4 -84.492792  39.170476 -84.501798         0.500   \n",
       "\n",
       "                                         Description  ...  Roundabout Station  \\\n",
       "0  Between Sawmill Rd/Exit 20 and OH-315/Olentang...  ...       False   False   \n",
       "1                 At OH-4/OH-235/Exit 41 - Accident.  ...       False   False   \n",
       "2                   At I-71/US-50/Exit 1 - Accident.  ...       False   False   \n",
       "3                    At Dart Ave/Exit 21 - Accident.  ...       False   False   \n",
       "4                 At Mitchell Ave/Exit 6 - Accident.  ...       False   False   \n",
       "\n",
       "    Stop Traffic_Calming Traffic_Signal Turning_Loop Sunrise_Sunset  \\\n",
       "0  False           False          False        False          Night   \n",
       "1  False           False          False        False          Night   \n",
       "2  False           False          False        False          Night   \n",
       "3  False           False          False        False          Night   \n",
       "4  False           False          False        False            Day   \n",
       "\n",
       "  Civil_Twilight Nautical_Twilight Astronomical_Twilight  \n",
       "0          Night             Night                 Night  \n",
       "1          Night             Night                 Night  \n",
       "2          Night             Night                   Day  \n",
       "3          Night               Day                   Day  \n",
       "4            Day               Day                   Day  \n",
       "\n",
       "[5 rows x 47 columns]"
      ]
     },
     "execution_count": 3,
     "metadata": {},
     "output_type": "execute_result"
    }
   ],
   "source": [
    "df = pd.read_csv(my_filepath)\n",
    "df.head()"
   ]
  },
  {
   "cell_type": "markdown",
   "id": "272e5af1",
   "metadata": {
    "papermill": {
     "duration": 0.044578,
     "end_time": "2022-08-31T15:34:31.687266",
     "exception": false,
     "start_time": "2022-08-31T15:34:31.642688",
     "status": "completed"
    },
    "tags": []
   },
   "source": []
  },
  {
   "cell_type": "markdown",
   "id": "c767326b",
   "metadata": {
    "papermill": {
     "duration": 0.045193,
     "end_time": "2022-08-31T15:34:31.777879",
     "exception": false,
     "start_time": "2022-08-31T15:34:31.732686",
     "status": "completed"
    },
    "tags": []
   },
   "source": [
    "# Data Preparartion and data cleaning"
   ]
  },
  {
   "cell_type": "code",
   "execution_count": 4,
   "id": "304012c8",
   "metadata": {
    "execution": {
     "iopub.execute_input": "2022-08-31T15:34:31.869663Z",
     "iopub.status.busy": "2022-08-31T15:34:31.869000Z",
     "iopub.status.idle": "2022-08-31T15:34:31.875572Z",
     "shell.execute_reply": "2022-08-31T15:34:31.874670Z"
    },
    "papermill": {
     "duration": 0.054745,
     "end_time": "2022-08-31T15:34:31.877596",
     "exception": false,
     "start_time": "2022-08-31T15:34:31.822851",
     "status": "completed"
    },
    "tags": []
   },
   "outputs": [
    {
     "data": {
      "text/plain": [
       "Index(['ID', 'Severity', 'Start_Time', 'End_Time', 'Start_Lat', 'Start_Lng',\n",
       "       'End_Lat', 'End_Lng', 'Distance(mi)', 'Description', 'Number', 'Street',\n",
       "       'Side', 'City', 'County', 'State', 'Zipcode', 'Country', 'Timezone',\n",
       "       'Airport_Code', 'Weather_Timestamp', 'Temperature(F)', 'Wind_Chill(F)',\n",
       "       'Humidity(%)', 'Pressure(in)', 'Visibility(mi)', 'Wind_Direction',\n",
       "       'Wind_Speed(mph)', 'Precipitation(in)', 'Weather_Condition', 'Amenity',\n",
       "       'Bump', 'Crossing', 'Give_Way', 'Junction', 'No_Exit', 'Railway',\n",
       "       'Roundabout', 'Station', 'Stop', 'Traffic_Calming', 'Traffic_Signal',\n",
       "       'Turning_Loop', 'Sunrise_Sunset', 'Civil_Twilight', 'Nautical_Twilight',\n",
       "       'Astronomical_Twilight'],\n",
       "      dtype='object')"
      ]
     },
     "execution_count": 4,
     "metadata": {},
     "output_type": "execute_result"
    }
   ],
   "source": [
    "df.columns"
   ]
  },
  {
   "cell_type": "code",
   "execution_count": 5,
   "id": "d3ba99fa",
   "metadata": {
    "execution": {
     "iopub.execute_input": "2022-08-31T15:34:31.971080Z",
     "iopub.status.busy": "2022-08-31T15:34:31.970788Z",
     "iopub.status.idle": "2022-08-31T15:34:31.993951Z",
     "shell.execute_reply": "2022-08-31T15:34:31.992886Z"
    },
    "papermill": {
     "duration": 0.072369,
     "end_time": "2022-08-31T15:34:31.996201",
     "exception": false,
     "start_time": "2022-08-31T15:34:31.923832",
     "status": "completed"
    },
    "tags": []
   },
   "outputs": [
    {
     "name": "stdout",
     "output_type": "stream",
     "text": [
      "<class 'pandas.core.frame.DataFrame'>\n",
      "RangeIndex: 2845342 entries, 0 to 2845341\n",
      "Data columns (total 47 columns):\n",
      " #   Column                 Dtype  \n",
      "---  ------                 -----  \n",
      " 0   ID                     object \n",
      " 1   Severity               int64  \n",
      " 2   Start_Time             object \n",
      " 3   End_Time               object \n",
      " 4   Start_Lat              float64\n",
      " 5   Start_Lng              float64\n",
      " 6   End_Lat                float64\n",
      " 7   End_Lng                float64\n",
      " 8   Distance(mi)           float64\n",
      " 9   Description            object \n",
      " 10  Number                 float64\n",
      " 11  Street                 object \n",
      " 12  Side                   object \n",
      " 13  City                   object \n",
      " 14  County                 object \n",
      " 15  State                  object \n",
      " 16  Zipcode                object \n",
      " 17  Country                object \n",
      " 18  Timezone               object \n",
      " 19  Airport_Code           object \n",
      " 20  Weather_Timestamp      object \n",
      " 21  Temperature(F)         float64\n",
      " 22  Wind_Chill(F)          float64\n",
      " 23  Humidity(%)            float64\n",
      " 24  Pressure(in)           float64\n",
      " 25  Visibility(mi)         float64\n",
      " 26  Wind_Direction         object \n",
      " 27  Wind_Speed(mph)        float64\n",
      " 28  Precipitation(in)      float64\n",
      " 29  Weather_Condition      object \n",
      " 30  Amenity                bool   \n",
      " 31  Bump                   bool   \n",
      " 32  Crossing               bool   \n",
      " 33  Give_Way               bool   \n",
      " 34  Junction               bool   \n",
      " 35  No_Exit                bool   \n",
      " 36  Railway                bool   \n",
      " 37  Roundabout             bool   \n",
      " 38  Station                bool   \n",
      " 39  Stop                   bool   \n",
      " 40  Traffic_Calming        bool   \n",
      " 41  Traffic_Signal         bool   \n",
      " 42  Turning_Loop           bool   \n",
      " 43  Sunrise_Sunset         object \n",
      " 44  Civil_Twilight         object \n",
      " 45  Nautical_Twilight      object \n",
      " 46  Astronomical_Twilight  object \n",
      "dtypes: bool(13), float64(13), int64(1), object(20)\n",
      "memory usage: 773.4+ MB\n"
     ]
    }
   ],
   "source": [
    "df.info()"
   ]
  },
  {
   "cell_type": "code",
   "execution_count": 6,
   "id": "e0dae198",
   "metadata": {
    "execution": {
     "iopub.execute_input": "2022-08-31T15:34:32.092821Z",
     "iopub.status.busy": "2022-08-31T15:34:32.092143Z",
     "iopub.status.idle": "2022-08-31T15:34:34.158440Z",
     "shell.execute_reply": "2022-08-31T15:34:34.157431Z"
    },
    "papermill": {
     "duration": 2.115934,
     "end_time": "2022-08-31T15:34:34.161013",
     "exception": false,
     "start_time": "2022-08-31T15:34:32.045079",
     "status": "completed"
    },
    "tags": []
   },
   "outputs": [
    {
     "data": {
      "text/html": [
       "<div>\n",
       "<style scoped>\n",
       "    .dataframe tbody tr th:only-of-type {\n",
       "        vertical-align: middle;\n",
       "    }\n",
       "\n",
       "    .dataframe tbody tr th {\n",
       "        vertical-align: top;\n",
       "    }\n",
       "\n",
       "    .dataframe thead th {\n",
       "        text-align: right;\n",
       "    }\n",
       "</style>\n",
       "<table border=\"1\" class=\"dataframe\">\n",
       "  <thead>\n",
       "    <tr style=\"text-align: right;\">\n",
       "      <th></th>\n",
       "      <th>Severity</th>\n",
       "      <th>Start_Lat</th>\n",
       "      <th>Start_Lng</th>\n",
       "      <th>End_Lat</th>\n",
       "      <th>End_Lng</th>\n",
       "      <th>Distance(mi)</th>\n",
       "      <th>Number</th>\n",
       "      <th>Temperature(F)</th>\n",
       "      <th>Wind_Chill(F)</th>\n",
       "      <th>Humidity(%)</th>\n",
       "      <th>Pressure(in)</th>\n",
       "      <th>Visibility(mi)</th>\n",
       "      <th>Wind_Speed(mph)</th>\n",
       "      <th>Precipitation(in)</th>\n",
       "    </tr>\n",
       "  </thead>\n",
       "  <tbody>\n",
       "    <tr>\n",
       "      <th>count</th>\n",
       "      <td>2.845342e+06</td>\n",
       "      <td>2.845342e+06</td>\n",
       "      <td>2.845342e+06</td>\n",
       "      <td>2.845342e+06</td>\n",
       "      <td>2.845342e+06</td>\n",
       "      <td>2.845342e+06</td>\n",
       "      <td>1.101431e+06</td>\n",
       "      <td>2.776068e+06</td>\n",
       "      <td>2.375699e+06</td>\n",
       "      <td>2.772250e+06</td>\n",
       "      <td>2.786142e+06</td>\n",
       "      <td>2.774796e+06</td>\n",
       "      <td>2.687398e+06</td>\n",
       "      <td>2.295884e+06</td>\n",
       "    </tr>\n",
       "    <tr>\n",
       "      <th>mean</th>\n",
       "      <td>2.137572e+00</td>\n",
       "      <td>3.624520e+01</td>\n",
       "      <td>-9.711463e+01</td>\n",
       "      <td>3.624532e+01</td>\n",
       "      <td>-9.711439e+01</td>\n",
       "      <td>7.026779e-01</td>\n",
       "      <td>8.089408e+03</td>\n",
       "      <td>6.179356e+01</td>\n",
       "      <td>5.965823e+01</td>\n",
       "      <td>6.436545e+01</td>\n",
       "      <td>2.947234e+01</td>\n",
       "      <td>9.099391e+00</td>\n",
       "      <td>7.395044e+00</td>\n",
       "      <td>7.016940e-03</td>\n",
       "    </tr>\n",
       "    <tr>\n",
       "      <th>std</th>\n",
       "      <td>4.787216e-01</td>\n",
       "      <td>5.363797e+00</td>\n",
       "      <td>1.831782e+01</td>\n",
       "      <td>5.363873e+00</td>\n",
       "      <td>1.831763e+01</td>\n",
       "      <td>1.560361e+00</td>\n",
       "      <td>1.836009e+04</td>\n",
       "      <td>1.862263e+01</td>\n",
       "      <td>2.116097e+01</td>\n",
       "      <td>2.287457e+01</td>\n",
       "      <td>1.045286e+00</td>\n",
       "      <td>2.717546e+00</td>\n",
       "      <td>5.527454e+00</td>\n",
       "      <td>9.348831e-02</td>\n",
       "    </tr>\n",
       "    <tr>\n",
       "      <th>min</th>\n",
       "      <td>1.000000e+00</td>\n",
       "      <td>2.456603e+01</td>\n",
       "      <td>-1.245481e+02</td>\n",
       "      <td>2.456601e+01</td>\n",
       "      <td>-1.245457e+02</td>\n",
       "      <td>0.000000e+00</td>\n",
       "      <td>0.000000e+00</td>\n",
       "      <td>-8.900000e+01</td>\n",
       "      <td>-8.900000e+01</td>\n",
       "      <td>1.000000e+00</td>\n",
       "      <td>0.000000e+00</td>\n",
       "      <td>0.000000e+00</td>\n",
       "      <td>0.000000e+00</td>\n",
       "      <td>0.000000e+00</td>\n",
       "    </tr>\n",
       "    <tr>\n",
       "      <th>25%</th>\n",
       "      <td>2.000000e+00</td>\n",
       "      <td>3.344517e+01</td>\n",
       "      <td>-1.180331e+02</td>\n",
       "      <td>3.344628e+01</td>\n",
       "      <td>-1.180333e+02</td>\n",
       "      <td>5.200000e-02</td>\n",
       "      <td>1.270000e+03</td>\n",
       "      <td>5.000000e+01</td>\n",
       "      <td>4.600000e+01</td>\n",
       "      <td>4.800000e+01</td>\n",
       "      <td>2.931000e+01</td>\n",
       "      <td>1.000000e+01</td>\n",
       "      <td>3.500000e+00</td>\n",
       "      <td>0.000000e+00</td>\n",
       "    </tr>\n",
       "    <tr>\n",
       "      <th>50%</th>\n",
       "      <td>2.000000e+00</td>\n",
       "      <td>3.609861e+01</td>\n",
       "      <td>-9.241808e+01</td>\n",
       "      <td>3.609799e+01</td>\n",
       "      <td>-9.241772e+01</td>\n",
       "      <td>2.440000e-01</td>\n",
       "      <td>4.007000e+03</td>\n",
       "      <td>6.400000e+01</td>\n",
       "      <td>6.300000e+01</td>\n",
       "      <td>6.700000e+01</td>\n",
       "      <td>2.982000e+01</td>\n",
       "      <td>1.000000e+01</td>\n",
       "      <td>7.000000e+00</td>\n",
       "      <td>0.000000e+00</td>\n",
       "    </tr>\n",
       "    <tr>\n",
       "      <th>75%</th>\n",
       "      <td>2.000000e+00</td>\n",
       "      <td>4.016024e+01</td>\n",
       "      <td>-8.037243e+01</td>\n",
       "      <td>4.016105e+01</td>\n",
       "      <td>-8.037338e+01</td>\n",
       "      <td>7.640000e-01</td>\n",
       "      <td>9.567000e+03</td>\n",
       "      <td>7.600000e+01</td>\n",
       "      <td>7.600000e+01</td>\n",
       "      <td>8.300000e+01</td>\n",
       "      <td>3.001000e+01</td>\n",
       "      <td>1.000000e+01</td>\n",
       "      <td>1.000000e+01</td>\n",
       "      <td>0.000000e+00</td>\n",
       "    </tr>\n",
       "    <tr>\n",
       "      <th>max</th>\n",
       "      <td>4.000000e+00</td>\n",
       "      <td>4.900058e+01</td>\n",
       "      <td>-6.711317e+01</td>\n",
       "      <td>4.907500e+01</td>\n",
       "      <td>-6.710924e+01</td>\n",
       "      <td>1.551860e+02</td>\n",
       "      <td>9.999997e+06</td>\n",
       "      <td>1.960000e+02</td>\n",
       "      <td>1.960000e+02</td>\n",
       "      <td>1.000000e+02</td>\n",
       "      <td>5.890000e+01</td>\n",
       "      <td>1.400000e+02</td>\n",
       "      <td>1.087000e+03</td>\n",
       "      <td>2.400000e+01</td>\n",
       "    </tr>\n",
       "  </tbody>\n",
       "</table>\n",
       "</div>"
      ],
      "text/plain": [
       "           Severity     Start_Lat     Start_Lng       End_Lat       End_Lng  \\\n",
       "count  2.845342e+06  2.845342e+06  2.845342e+06  2.845342e+06  2.845342e+06   \n",
       "mean   2.137572e+00  3.624520e+01 -9.711463e+01  3.624532e+01 -9.711439e+01   \n",
       "std    4.787216e-01  5.363797e+00  1.831782e+01  5.363873e+00  1.831763e+01   \n",
       "min    1.000000e+00  2.456603e+01 -1.245481e+02  2.456601e+01 -1.245457e+02   \n",
       "25%    2.000000e+00  3.344517e+01 -1.180331e+02  3.344628e+01 -1.180333e+02   \n",
       "50%    2.000000e+00  3.609861e+01 -9.241808e+01  3.609799e+01 -9.241772e+01   \n",
       "75%    2.000000e+00  4.016024e+01 -8.037243e+01  4.016105e+01 -8.037338e+01   \n",
       "max    4.000000e+00  4.900058e+01 -6.711317e+01  4.907500e+01 -6.710924e+01   \n",
       "\n",
       "       Distance(mi)        Number  Temperature(F)  Wind_Chill(F)  \\\n",
       "count  2.845342e+06  1.101431e+06    2.776068e+06   2.375699e+06   \n",
       "mean   7.026779e-01  8.089408e+03    6.179356e+01   5.965823e+01   \n",
       "std    1.560361e+00  1.836009e+04    1.862263e+01   2.116097e+01   \n",
       "min    0.000000e+00  0.000000e+00   -8.900000e+01  -8.900000e+01   \n",
       "25%    5.200000e-02  1.270000e+03    5.000000e+01   4.600000e+01   \n",
       "50%    2.440000e-01  4.007000e+03    6.400000e+01   6.300000e+01   \n",
       "75%    7.640000e-01  9.567000e+03    7.600000e+01   7.600000e+01   \n",
       "max    1.551860e+02  9.999997e+06    1.960000e+02   1.960000e+02   \n",
       "\n",
       "        Humidity(%)  Pressure(in)  Visibility(mi)  Wind_Speed(mph)  \\\n",
       "count  2.772250e+06  2.786142e+06    2.774796e+06     2.687398e+06   \n",
       "mean   6.436545e+01  2.947234e+01    9.099391e+00     7.395044e+00   \n",
       "std    2.287457e+01  1.045286e+00    2.717546e+00     5.527454e+00   \n",
       "min    1.000000e+00  0.000000e+00    0.000000e+00     0.000000e+00   \n",
       "25%    4.800000e+01  2.931000e+01    1.000000e+01     3.500000e+00   \n",
       "50%    6.700000e+01  2.982000e+01    1.000000e+01     7.000000e+00   \n",
       "75%    8.300000e+01  3.001000e+01    1.000000e+01     1.000000e+01   \n",
       "max    1.000000e+02  5.890000e+01    1.400000e+02     1.087000e+03   \n",
       "\n",
       "       Precipitation(in)  \n",
       "count       2.295884e+06  \n",
       "mean        7.016940e-03  \n",
       "std         9.348831e-02  \n",
       "min         0.000000e+00  \n",
       "25%         0.000000e+00  \n",
       "50%         0.000000e+00  \n",
       "75%         0.000000e+00  \n",
       "max         2.400000e+01  "
      ]
     },
     "execution_count": 6,
     "metadata": {},
     "output_type": "execute_result"
    }
   ],
   "source": [
    "df.describe()"
   ]
  },
  {
   "cell_type": "code",
   "execution_count": 7,
   "id": "ae1bbbce",
   "metadata": {
    "execution": {
     "iopub.execute_input": "2022-08-31T15:34:34.257059Z",
     "iopub.status.busy": "2022-08-31T15:34:34.256242Z",
     "iopub.status.idle": "2022-08-31T15:34:34.374622Z",
     "shell.execute_reply": "2022-08-31T15:34:34.373692Z"
    },
    "papermill": {
     "duration": 0.168618,
     "end_time": "2022-08-31T15:34:34.376673",
     "exception": false,
     "start_time": "2022-08-31T15:34:34.208055",
     "status": "completed"
    },
    "tags": []
   },
   "outputs": [
    {
     "data": {
      "text/plain": [
       "Index(['Severity', 'Start_Lat', 'Start_Lng', 'End_Lat', 'End_Lng',\n",
       "       'Distance(mi)', 'Number', 'Temperature(F)', 'Wind_Chill(F)',\n",
       "       'Humidity(%)', 'Pressure(in)', 'Visibility(mi)', 'Wind_Speed(mph)',\n",
       "       'Precipitation(in)'],\n",
       "      dtype='object')"
      ]
     },
     "execution_count": 7,
     "metadata": {},
     "output_type": "execute_result"
    }
   ],
   "source": [
    "numeric_df = df.select_dtypes(include='number')\n",
    "numeric_df.columns"
   ]
  },
  {
   "cell_type": "markdown",
   "id": "67976515",
   "metadata": {
    "papermill": {
     "duration": 0.046734,
     "end_time": "2022-08-31T15:34:34.470585",
     "exception": false,
     "start_time": "2022-08-31T15:34:34.423851",
     "status": "completed"
    },
    "tags": []
   },
   "source": [
    "## Looking for missing values"
   ]
  },
  {
   "cell_type": "code",
   "execution_count": 8,
   "id": "86a479bf",
   "metadata": {
    "execution": {
     "iopub.execute_input": "2022-08-31T15:34:34.567942Z",
     "iopub.status.busy": "2022-08-31T15:34:34.567612Z",
     "iopub.status.idle": "2022-08-31T15:34:37.066834Z",
     "shell.execute_reply": "2022-08-31T15:34:37.065725Z"
    },
    "papermill": {
     "duration": 2.551441,
     "end_time": "2022-08-31T15:34:37.069317",
     "exception": false,
     "start_time": "2022-08-31T15:34:34.517876",
     "status": "completed"
    },
    "tags": []
   },
   "outputs": [
    {
     "data": {
      "text/plain": [
       "Number                   6.129003e-01\n",
       "Precipitation(in)        1.931079e-01\n",
       "Wind_Chill(F)            1.650568e-01\n",
       "Wind_Speed(mph)          5.550967e-02\n",
       "Wind_Direction           2.592834e-02\n",
       "Humidity(%)              2.568830e-02\n",
       "Weather_Condition        2.482514e-02\n",
       "Visibility(mi)           2.479350e-02\n",
       "Temperature(F)           2.434646e-02\n",
       "Pressure(in)             2.080593e-02\n",
       "Weather_Timestamp        1.783125e-02\n",
       "Airport_Code             3.356011e-03\n",
       "Timezone                 1.285961e-03\n",
       "Nautical_Twilight        1.007612e-03\n",
       "Civil_Twilight           1.007612e-03\n",
       "Sunrise_Sunset           1.007612e-03\n",
       "Astronomical_Twilight    1.007612e-03\n",
       "Zipcode                  4.635647e-04\n",
       "City                     4.814887e-05\n",
       "Street                   7.029032e-07\n",
       "Country                  0.000000e+00\n",
       "Junction                 0.000000e+00\n",
       "Start_Time               0.000000e+00\n",
       "End_Time                 0.000000e+00\n",
       "Start_Lat                0.000000e+00\n",
       "Turning_Loop             0.000000e+00\n",
       "Traffic_Signal           0.000000e+00\n",
       "Traffic_Calming          0.000000e+00\n",
       "Stop                     0.000000e+00\n",
       "Station                  0.000000e+00\n",
       "Roundabout               0.000000e+00\n",
       "Railway                  0.000000e+00\n",
       "No_Exit                  0.000000e+00\n",
       "Crossing                 0.000000e+00\n",
       "Give_Way                 0.000000e+00\n",
       "Bump                     0.000000e+00\n",
       "Amenity                  0.000000e+00\n",
       "Start_Lng                0.000000e+00\n",
       "End_Lat                  0.000000e+00\n",
       "End_Lng                  0.000000e+00\n",
       "Distance(mi)             0.000000e+00\n",
       "Description              0.000000e+00\n",
       "Severity                 0.000000e+00\n",
       "Side                     0.000000e+00\n",
       "County                   0.000000e+00\n",
       "State                    0.000000e+00\n",
       "ID                       0.000000e+00\n",
       "dtype: float64"
      ]
     },
     "execution_count": 8,
     "metadata": {},
     "output_type": "execute_result"
    }
   ],
   "source": [
    "missing_percent = df.isna().sum().sort_values(ascending = False)/len(df)\n",
    "missing_percent"
   ]
  },
  {
   "cell_type": "code",
   "execution_count": 9,
   "id": "51dfe8ed",
   "metadata": {
    "execution": {
     "iopub.execute_input": "2022-08-31T15:34:37.166769Z",
     "iopub.status.busy": "2022-08-31T15:34:37.166224Z",
     "iopub.status.idle": "2022-08-31T15:34:37.173502Z",
     "shell.execute_reply": "2022-08-31T15:34:37.172949Z"
    },
    "papermill": {
     "duration": 0.058022,
     "end_time": "2022-08-31T15:34:37.175318",
     "exception": false,
     "start_time": "2022-08-31T15:34:37.117296",
     "status": "completed"
    },
    "tags": []
   },
   "outputs": [
    {
     "data": {
      "text/plain": [
       "Number                   6.129003e-01\n",
       "Precipitation(in)        1.931079e-01\n",
       "Wind_Chill(F)            1.650568e-01\n",
       "Wind_Speed(mph)          5.550967e-02\n",
       "Wind_Direction           2.592834e-02\n",
       "Humidity(%)              2.568830e-02\n",
       "Weather_Condition        2.482514e-02\n",
       "Visibility(mi)           2.479350e-02\n",
       "Temperature(F)           2.434646e-02\n",
       "Pressure(in)             2.080593e-02\n",
       "Weather_Timestamp        1.783125e-02\n",
       "Airport_Code             3.356011e-03\n",
       "Timezone                 1.285961e-03\n",
       "Nautical_Twilight        1.007612e-03\n",
       "Civil_Twilight           1.007612e-03\n",
       "Sunrise_Sunset           1.007612e-03\n",
       "Astronomical_Twilight    1.007612e-03\n",
       "Zipcode                  4.635647e-04\n",
       "City                     4.814887e-05\n",
       "Street                   7.029032e-07\n",
       "dtype: float64"
      ]
     },
     "execution_count": 9,
     "metadata": {},
     "output_type": "execute_result"
    }
   ],
   "source": [
    "missing_percent[missing_percent != 0]"
   ]
  },
  {
   "cell_type": "code",
   "execution_count": 10,
   "id": "da270f2c",
   "metadata": {
    "execution": {
     "iopub.execute_input": "2022-08-31T15:34:37.273144Z",
     "iopub.status.busy": "2022-08-31T15:34:37.272284Z",
     "iopub.status.idle": "2022-08-31T15:34:37.594433Z",
     "shell.execute_reply": "2022-08-31T15:34:37.593575Z"
    },
    "papermill": {
     "duration": 0.373568,
     "end_time": "2022-08-31T15:34:37.596844",
     "exception": false,
     "start_time": "2022-08-31T15:34:37.223276",
     "status": "completed"
    },
    "tags": []
   },
   "outputs": [
    {
     "data": {
      "text/plain": [
       "<AxesSubplot:>"
      ]
     },
     "execution_count": 10,
     "metadata": {},
     "output_type": "execute_result"
    },
    {
     "data": {
      "image/png": "[encoded data removed]",
      "text/plain": [
       "<Figure size 432x288 with 1 Axes>"
      ]
     },
     "metadata": {
      "needs_background": "light"
     },
     "output_type": "display_data"
    }
   ],
   "source": [
    "missing_percent[missing_percent != 0].plot(kind = 'barh')"
   ]
  },
  {
   "cell_type": "markdown",
   "id": "188b282a",
   "metadata": {
    "papermill": {
     "duration": 0.049132,
     "end_time": "2022-08-31T15:34:37.695273",
     "exception": false,
     "start_time": "2022-08-31T15:34:37.646141",
     "status": "completed"
    },
    "tags": []
   },
   "source": [
    "# Exploratory Analysis and Visualization"
   ]
  },
  {
   "cell_type": "markdown",
   "id": "b5b8b19c",
   "metadata": {
    "papermill": {
     "duration": 0.049253,
     "end_time": "2022-08-31T15:34:37.795343",
     "exception": false,
     "start_time": "2022-08-31T15:34:37.746090",
     "status": "completed"
    },
    "tags": []
   },
   "source": [
    "## Columns to explore:\n",
    "- City\n",
    "- Start Time\n",
    "- StratLat, StartLong\n",
    "- Temp\n",
    "- Wheather Comndition"
   ]
  },
  {
   "cell_type": "markdown",
   "id": "05376672",
   "metadata": {
    "papermill": {
     "duration": 0.049161,
     "end_time": "2022-08-31T15:34:37.893872",
     "exception": false,
     "start_time": "2022-08-31T15:34:37.844711",
     "status": "completed"
    },
    "tags": []
   },
   "source": [
    "### City"
   ]
  },
  {
   "cell_type": "code",
   "execution_count": 11,
   "id": "4b9a6b5f",
   "metadata": {
    "execution": {
     "iopub.execute_input": "2022-08-31T15:34:37.995743Z",
     "iopub.status.busy": "2022-08-31T15:34:37.995411Z",
     "iopub.status.idle": "2022-08-31T15:34:38.232374Z",
     "shell.execute_reply": "2022-08-31T15:34:38.231518Z"
    },
    "papermill": {
     "duration": 0.289445,
     "end_time": "2022-08-31T15:34:38.234308",
     "exception": false,
     "start_time": "2022-08-31T15:34:37.944863",
     "status": "completed"
    },
    "tags": []
   },
   "outputs": [
    {
     "data": {
      "text/plain": [
       "11682"
      ]
     },
     "execution_count": 11,
     "metadata": {},
     "output_type": "execute_result"
    }
   ],
   "source": [
    "Cities = df.City.unique()\n",
    "len(Cities)"
   ]
  },
  {
   "cell_type": "code",
   "execution_count": 12,
   "id": "506a133f",
   "metadata": {
    "execution": {
     "iopub.execute_input": "2022-08-31T15:34:38.335412Z",
     "iopub.status.busy": "2022-08-31T15:34:38.335116Z",
     "iopub.status.idle": "2022-08-31T15:34:38.609583Z",
     "shell.execute_reply": "2022-08-31T15:34:38.608776Z"
    },
    "papermill": {
     "duration": 0.327493,
     "end_time": "2022-08-31T15:34:38.611700",
     "exception": false,
     "start_time": "2022-08-31T15:34:38.284207",
     "status": "completed"
    },
    "tags": []
   },
   "outputs": [
    {
     "data": {
      "text/plain": [
       "Miami                           106966\n",
       "Los Angeles                      68956\n",
       "Orlando                          54691\n",
       "Dallas                           41979\n",
       "Houston                          39448\n",
       "                                 ...  \n",
       "Ridgedale                            1\n",
       "Sekiu                                1\n",
       "Wooldridge                           1\n",
       "Bullock                              1\n",
       "American Fork-Pleasant Grove         1\n",
       "Name: City, Length: 11681, dtype: int64"
      ]
     },
     "execution_count": 12,
     "metadata": {},
     "output_type": "execute_result"
    }
   ],
   "source": [
    "cities_by_acc = df['City'].value_counts()\n",
    "cities_by_acc"
   ]
  },
  {
   "cell_type": "code",
   "execution_count": 13,
   "id": "b32e32ae",
   "metadata": {
    "execution": {
     "iopub.execute_input": "2022-08-31T15:34:38.713871Z",
     "iopub.status.busy": "2022-08-31T15:34:38.713289Z",
     "iopub.status.idle": "2022-08-31T15:34:38.721104Z",
     "shell.execute_reply": "2022-08-31T15:34:38.720180Z"
    },
    "papermill": {
     "duration": 0.061651,
     "end_time": "2022-08-31T15:34:38.723263",
     "exception": false,
     "start_time": "2022-08-31T15:34:38.661612",
     "status": "completed"
    },
    "tags": []
   },
   "outputs": [
    {
     "data": {
      "text/plain": [
       "Miami           106966\n",
       "Los Angeles      68956\n",
       "Orlando          54691\n",
       "Dallas           41979\n",
       "Houston          39448\n",
       "Charlotte        33152\n",
       "Sacramento       32559\n",
       "San Diego        26627\n",
       "Raleigh          22840\n",
       "Minneapolis      22768\n",
       "Portland         20944\n",
       "Nashville        20267\n",
       "Austin           18301\n",
       "Baton Rouge      18182\n",
       "Phoenix          17143\n",
       "Saint Paul       16869\n",
       "New Orleans      16251\n",
       "Atlanta          15622\n",
       "Jacksonville     14967\n",
       "Richmond         14349\n",
       "Name: City, dtype: int64"
      ]
     },
     "execution_count": 13,
     "metadata": {},
     "output_type": "execute_result"
    }
   ],
   "source": [
    "cities_by_acc[:20]"
   ]
  },
  {
   "cell_type": "code",
   "execution_count": 14,
   "id": "6919318d",
   "metadata": {
    "execution": {
     "iopub.execute_input": "2022-08-31T15:34:38.827373Z",
     "iopub.status.busy": "2022-08-31T15:34:38.827097Z",
     "iopub.status.idle": "2022-08-31T15:34:39.083699Z",
     "shell.execute_reply": "2022-08-31T15:34:39.082655Z"
    },
    "papermill": {
     "duration": 0.311867,
     "end_time": "2022-08-31T15:34:39.085984",
     "exception": false,
     "start_time": "2022-08-31T15:34:38.774117",
     "status": "completed"
    },
    "tags": []
   },
   "outputs": [
    {
     "data": {
      "text/plain": [
       "<AxesSubplot:>"
      ]
     },
     "execution_count": 14,
     "metadata": {},
     "output_type": "execute_result"
    },
    {
     "data": {
      "image/png": "[encoded data removed]",
      "text/plain": [
       "<Figure size 432x288 with 1 Axes>"
      ]
     },
     "metadata": {
      "needs_background": "light"
     },
     "output_type": "display_data"
    }
   ],
   "source": [
    "cities_by_acc[:20].plot(kind = 'barh')"
   ]
  },
  {
   "cell_type": "code",
   "execution_count": 15,
   "id": "0321af51",
   "metadata": {
    "execution": {
     "iopub.execute_input": "2022-08-31T15:34:39.192062Z",
     "iopub.status.busy": "2022-08-31T15:34:39.191570Z",
     "iopub.status.idle": "2022-08-31T15:34:39.195246Z",
     "shell.execute_reply": "2022-08-31T15:34:39.194646Z"
    },
    "papermill": {
     "duration": 0.058828,
     "end_time": "2022-08-31T15:34:39.196996",
     "exception": false,
     "start_time": "2022-08-31T15:34:39.138168",
     "status": "completed"
    },
    "tags": []
   },
   "outputs": [],
   "source": [
    "sns.set_style('darkgrid')"
   ]
  },
  {
   "cell_type": "code",
   "execution_count": 16,
   "id": "c2f6d6e8",
   "metadata": {
    "execution": {
     "iopub.execute_input": "2022-08-31T15:34:39.302269Z",
     "iopub.status.busy": "2022-08-31T15:34:39.301779Z",
     "iopub.status.idle": "2022-08-31T15:34:40.513409Z",
     "shell.execute_reply": "2022-08-31T15:34:40.512253Z"
    },
    "papermill": {
     "duration": 1.26713,
     "end_time": "2022-08-31T15:34:40.515919",
     "exception": false,
     "start_time": "2022-08-31T15:34:39.248789",
     "status": "completed"
    },
    "tags": []
   },
   "outputs": [
    {
     "data": {
      "text/plain": [
       "<AxesSubplot:xlabel='City', ylabel='Count'>"
      ]
     },
     "execution_count": 16,
     "metadata": {},
     "output_type": "execute_result"
    },
    {
     "data": {
      "image/png": "[encoded data removed]",
      "text/plain": [
       "<Figure size 432x288 with 1 Axes>"
      ]
     },
     "metadata": {},
     "output_type": "display_data"
    }
   ],
   "source": [
    "sns.histplot(x=cities_by_acc,log_scale = True)"
   ]
  },
  {
   "cell_type": "code",
   "execution_count": 17,
   "id": "0e794790",
   "metadata": {
    "execution": {
     "iopub.execute_input": "2022-08-31T15:34:40.624348Z",
     "iopub.status.busy": "2022-08-31T15:34:40.624063Z",
     "iopub.status.idle": "2022-08-31T15:34:40.631189Z",
     "shell.execute_reply": "2022-08-31T15:34:40.630507Z"
    },
    "papermill": {
     "duration": 0.063784,
     "end_time": "2022-08-31T15:34:40.633160",
     "exception": false,
     "start_time": "2022-08-31T15:34:40.569376",
     "status": "completed"
    },
    "tags": []
   },
   "outputs": [
    {
     "data": {
      "text/plain": [
       "11681"
      ]
     },
     "execution_count": 17,
     "metadata": {},
     "output_type": "execute_result"
    }
   ],
   "source": [
    "cities_by_acc[cities_by_acc == 1]\n",
    "len(cities_by_acc)"
   ]
  },
  {
   "cell_type": "code",
   "execution_count": 18,
   "id": "4d2bca7e",
   "metadata": {
    "execution": {
     "iopub.execute_input": "2022-08-31T15:34:40.742832Z",
     "iopub.status.busy": "2022-08-31T15:34:40.741566Z",
     "iopub.status.idle": "2022-08-31T15:34:40.748252Z",
     "shell.execute_reply": "2022-08-31T15:34:40.747482Z"
    },
    "papermill": {
     "duration": 0.063918,
     "end_time": "2022-08-31T15:34:40.750409",
     "exception": false,
     "start_time": "2022-08-31T15:34:40.686491",
     "status": "completed"
    },
    "tags": []
   },
   "outputs": [],
   "source": [
    "high_acc_city = cities_by_acc[cities_by_acc >= 1000]\n",
    "low_acc_city = cities_by_acc[cities_by_acc < 1000]"
   ]
  },
  {
   "cell_type": "code",
   "execution_count": 19,
   "id": "58692231",
   "metadata": {
    "execution": {
     "iopub.execute_input": "2022-08-31T15:34:40.859837Z",
     "iopub.status.busy": "2022-08-31T15:34:40.859512Z",
     "iopub.status.idle": "2022-08-31T15:34:40.865067Z",
     "shell.execute_reply": "2022-08-31T15:34:40.864357Z"
    },
    "papermill": {
     "duration": 0.063101,
     "end_time": "2022-08-31T15:34:40.866946",
     "exception": false,
     "start_time": "2022-08-31T15:34:40.803845",
     "status": "completed"
    },
    "tags": []
   },
   "outputs": [
    {
     "data": {
      "text/plain": [
       "0.04246211796935194"
      ]
     },
     "execution_count": 19,
     "metadata": {},
     "output_type": "execute_result"
    }
   ],
   "source": [
    "len(high_acc_city)/len(cities_by_acc)"
   ]
  },
  {
   "cell_type": "code",
   "execution_count": 20,
   "id": "e6374961",
   "metadata": {
    "execution": {
     "iopub.execute_input": "2022-08-31T15:34:40.977724Z",
     "iopub.status.busy": "2022-08-31T15:34:40.977156Z",
     "iopub.status.idle": "2022-08-31T15:34:41.361320Z",
     "shell.execute_reply": "2022-08-31T15:34:41.360078Z"
    },
    "papermill": {
     "duration": 0.442983,
     "end_time": "2022-08-31T15:34:41.363753",
     "exception": false,
     "start_time": "2022-08-31T15:34:40.920770",
     "status": "completed"
    },
    "tags": []
   },
   "outputs": [
    {
     "name": "stderr",
     "output_type": "stream",
     "text": [
      "/opt/conda/lib/python3.7/site-packages/seaborn/distributions.py:2619: FutureWarning: `distplot` is a deprecated function and will be removed in a future version. Please adapt your code to use either `displot` (a figure-level function with similar flexibility) or `histplot` (an axes-level function for histograms).\n",
      "  warnings.warn(msg, FutureWarning)\n"
     ]
    },
    {
     "data": {
      "text/plain": [
       "<AxesSubplot:xlabel='City', ylabel='Density'>"
      ]
     },
     "execution_count": 20,
     "metadata": {},
     "output_type": "execute_result"
    },
    {
     "data": {
      "image/png": "[encoded data removed]",
      "text/plain": [
       "<Figure size 432x288 with 1 Axes>"
      ]
     },
     "metadata": {},
     "output_type": "display_data"
    }
   ],
   "source": [
    "sns.distplot(high_acc_city)"
   ]
  },
  {
   "cell_type": "code",
   "execution_count": 21,
   "id": "54a253dc",
   "metadata": {
    "execution": {
     "iopub.execute_input": "2022-08-31T15:34:41.480863Z",
     "iopub.status.busy": "2022-08-31T15:34:41.480282Z",
     "iopub.status.idle": "2022-08-31T15:34:42.279156Z",
     "shell.execute_reply": "2022-08-31T15:34:42.278232Z"
    },
    "papermill": {
     "duration": 0.858191,
     "end_time": "2022-08-31T15:34:42.281576",
     "exception": false,
     "start_time": "2022-08-31T15:34:41.423385",
     "status": "completed"
    },
    "tags": []
   },
   "outputs": [
    {
     "data": {
      "text/plain": [
       "<seaborn.axisgrid.FacetGrid at 0x7f116ae74b90>"
      ]
     },
     "execution_count": 21,
     "metadata": {},
     "output_type": "execute_result"
    },
    {
     "data": {
      "image/png": "[encoded data removed]",
      "text/plain": [
       "<Figure size 360x360 with 1 Axes>"
      ]
     },
     "metadata": {},
     "output_type": "display_data"
    }
   ],
   "source": [
    "sns.displot(low_acc_city)"
   ]
  },
  {
   "cell_type": "markdown",
   "id": "36909d34",
   "metadata": {
    "papermill": {
     "duration": 0.056124,
     "end_time": "2022-08-31T15:34:42.394515",
     "exception": false,
     "start_time": "2022-08-31T15:34:42.338391",
     "status": "completed"
    },
    "tags": []
   },
   "source": [
    "Summary and Conclusion :\n",
    "- No data for New York\n",
    "- Less than 5% cities has more than 1000 accidents\n",
    "- The number of accidents decrease/increases exponentially\n",
    "- Around 12000 cities have reported 1 accident( need to check)"
   ]
  },
  {
   "cell_type": "markdown",
   "id": "50610311",
   "metadata": {
    "papermill": {
     "duration": 0.056004,
     "end_time": "2022-08-31T15:34:42.506834",
     "exception": false,
     "start_time": "2022-08-31T15:34:42.450830",
     "status": "completed"
    },
    "tags": []
   },
   "source": [
    "### Start time"
   ]
  },
  {
   "cell_type": "code",
   "execution_count": 22,
   "id": "5bcda3da",
   "metadata": {
    "execution": {
     "iopub.execute_input": "2022-08-31T15:34:42.621733Z",
     "iopub.status.busy": "2022-08-31T15:34:42.621426Z",
     "iopub.status.idle": "2022-08-31T15:34:42.628668Z",
     "shell.execute_reply": "2022-08-31T15:34:42.627934Z"
    },
    "papermill": {
     "duration": 0.067131,
     "end_time": "2022-08-31T15:34:42.630583",
     "exception": false,
     "start_time": "2022-08-31T15:34:42.563452",
     "status": "completed"
    },
    "tags": []
   },
   "outputs": [
    {
     "data": {
      "text/plain": [
       "0          2016-02-08 00:37:08\n",
       "1          2016-02-08 05:56:20\n",
       "2          2016-02-08 06:15:39\n",
       "3          2016-02-08 06:51:45\n",
       "4          2016-02-08 07:53:43\n",
       "                  ...         \n",
       "2845337    2019-08-23 18:03:25\n",
       "2845338    2019-08-23 19:11:30\n",
       "2845339    2019-08-23 19:00:21\n",
       "2845340    2019-08-23 19:00:21\n",
       "2845341    2019-08-23 18:52:06\n",
       "Name: Start_Time, Length: 2845342, dtype: object"
      ]
     },
     "execution_count": 22,
     "metadata": {},
     "output_type": "execute_result"
    }
   ],
   "source": [
    "df.Start_Time"
   ]
  },
  {
   "cell_type": "code",
   "execution_count": 23,
   "id": "fb86177a",
   "metadata": {
    "execution": {
     "iopub.execute_input": "2022-08-31T15:34:42.746724Z",
     "iopub.status.busy": "2022-08-31T15:34:42.746384Z",
     "iopub.status.idle": "2022-08-31T15:34:42.750816Z",
     "shell.execute_reply": "2022-08-31T15:34:42.749702Z"
    },
    "papermill": {
     "duration": 0.064924,
     "end_time": "2022-08-31T15:34:42.752937",
     "exception": false,
     "start_time": "2022-08-31T15:34:42.688013",
     "status": "completed"
    },
    "tags": []
   },
   "outputs": [],
   "source": [
    "### Currently the timme data is in object type, converting it to date-time"
   ]
  },
  {
   "cell_type": "code",
   "execution_count": 24,
   "id": "b8ef265e",
   "metadata": {
    "execution": {
     "iopub.execute_input": "2022-08-31T15:34:42.870970Z",
     "iopub.status.busy": "2022-08-31T15:34:42.870683Z",
     "iopub.status.idle": "2022-08-31T15:34:44.274727Z",
     "shell.execute_reply": "2022-08-31T15:34:44.273976Z"
    },
    "papermill": {
     "duration": 1.466395,
     "end_time": "2022-08-31T15:34:44.279069",
     "exception": false,
     "start_time": "2022-08-31T15:34:42.812674",
     "status": "completed"
    },
    "tags": []
   },
   "outputs": [],
   "source": [
    "df.Start_Time=pd.to_datetime(df.Start_Time)"
   ]
  },
  {
   "cell_type": "code",
   "execution_count": 25,
   "id": "8465ae68",
   "metadata": {
    "execution": {
     "iopub.execute_input": "2022-08-31T15:34:44.406640Z",
     "iopub.status.busy": "2022-08-31T15:34:44.406267Z",
     "iopub.status.idle": "2022-08-31T15:34:44.412711Z",
     "shell.execute_reply": "2022-08-31T15:34:44.411922Z"
    },
    "papermill": {
     "duration": 0.066609,
     "end_time": "2022-08-31T15:34:44.414585",
     "exception": false,
     "start_time": "2022-08-31T15:34:44.347976",
     "status": "completed"
    },
    "tags": []
   },
   "outputs": [
    {
     "data": {
      "text/plain": [
       "Timestamp('2016-02-08 00:37:08')"
      ]
     },
     "execution_count": 25,
     "metadata": {},
     "output_type": "execute_result"
    }
   ],
   "source": [
    "df.Start_Time[0]"
   ]
  },
  {
   "cell_type": "code",
   "execution_count": 26,
   "id": "07fc6eda",
   "metadata": {
    "execution": {
     "iopub.execute_input": "2022-08-31T15:34:44.532683Z",
     "iopub.status.busy": "2022-08-31T15:34:44.531776Z",
     "iopub.status.idle": "2022-08-31T15:34:44.827803Z",
     "shell.execute_reply": "2022-08-31T15:34:44.826954Z"
    },
    "papermill": {
     "duration": 0.357869,
     "end_time": "2022-08-31T15:34:44.830109",
     "exception": false,
     "start_time": "2022-08-31T15:34:44.472240",
     "status": "completed"
    },
    "tags": []
   },
   "outputs": [
    {
     "data": {
      "text/plain": [
       "0           0\n",
       "1           5\n",
       "2           6\n",
       "3           6\n",
       "4           7\n",
       "           ..\n",
       "2845337    18\n",
       "2845338    19\n",
       "2845339    19\n",
       "2845340    19\n",
       "2845341    18\n",
       "Name: Start_Time, Length: 2845342, dtype: int64"
      ]
     },
     "execution_count": 26,
     "metadata": {},
     "output_type": "execute_result"
    }
   ],
   "source": [
    "df.Start_Time.dt.hour"
   ]
  },
  {
   "cell_type": "code",
   "execution_count": 27,
   "id": "26302ecd",
   "metadata": {
    "execution": {
     "iopub.execute_input": "2022-08-31T15:34:44.947807Z",
     "iopub.status.busy": "2022-08-31T15:34:44.947454Z",
     "iopub.status.idle": "2022-08-31T15:34:45.542027Z",
     "shell.execute_reply": "2022-08-31T15:34:45.541034Z"
    },
    "papermill": {
     "duration": 0.656219,
     "end_time": "2022-08-31T15:34:45.544319",
     "exception": false,
     "start_time": "2022-08-31T15:34:44.888100",
     "status": "completed"
    },
    "tags": []
   },
   "outputs": [
    {
     "name": "stderr",
     "output_type": "stream",
     "text": [
      "/opt/conda/lib/python3.7/site-packages/seaborn/distributions.py:2619: FutureWarning: `distplot` is a deprecated function and will be removed in a future version. Please adapt your code to use either `displot` (a figure-level function with similar flexibility) or `histplot` (an axes-level function for histograms).\n",
      "  warnings.warn(msg, FutureWarning)\n"
     ]
    },
    {
     "data": {
      "text/plain": [
       "<AxesSubplot:xlabel='Start_Time'>"
      ]
     },
     "execution_count": 27,
     "metadata": {},
     "output_type": "execute_result"
    },
    {
     "data": {
      "image/png": "[encoded data removed]",
      "text/plain": [
       "<Figure size 432x288 with 1 Axes>"
      ]
     },
     "metadata": {},
     "output_type": "display_data"
    }
   ],
   "source": [
    "sns.distplot(df.Start_Time.dt.hour,bins=20,norm_hist=True,kde=False)"
   ]
  },
  {
   "cell_type": "markdown",
   "id": "5f561931",
   "metadata": {
    "papermill": {
     "duration": 0.058887,
     "end_time": "2022-08-31T15:34:45.662454",
     "exception": false,
     "start_time": "2022-08-31T15:34:45.603567",
     "status": "completed"
    },
    "tags": []
   },
   "source": [
    "Observations:\n",
    "1. A high percentage of accients happen between 6 am to 10 am (probably people leaving for work in a hurry).\n",
    "2. Next high percentage of accidents happen betwwen 3 pm to 6 pm."
   ]
  },
  {
   "cell_type": "code",
   "execution_count": 28,
   "id": "b8f955e4",
   "metadata": {
    "execution": {
     "iopub.execute_input": "2022-08-31T15:34:45.784125Z",
     "iopub.status.busy": "2022-08-31T15:34:45.783593Z",
     "iopub.status.idle": "2022-08-31T15:34:46.416277Z",
     "shell.execute_reply": "2022-08-31T15:34:46.415392Z"
    },
    "papermill": {
     "duration": 0.696691,
     "end_time": "2022-08-31T15:34:46.418722",
     "exception": false,
     "start_time": "2022-08-31T15:34:45.722031",
     "status": "completed"
    },
    "tags": []
   },
   "outputs": [
    {
     "data": {
      "text/plain": [
       "<AxesSubplot:xlabel='Start_Time'>"
      ]
     },
     "execution_count": 28,
     "metadata": {},
     "output_type": "execute_result"
    },
    {
     "data": {
      "image/png": "[encoded data removed]",
      "text/plain": [
       "<Figure size 432x288 with 1 Axes>"
      ]
     },
     "metadata": {},
     "output_type": "display_data"
    }
   ],
   "source": [
    "sns.distplot(df.Start_Time.dt.dayofweek,bins=7,norm_hist=True,kde=False)"
   ]
  },
  {
   "cell_type": "markdown",
   "id": "c476040d",
   "metadata": {
    "papermill": {
     "duration": 0.060826,
     "end_time": "2022-08-31T15:34:46.542585",
     "exception": false,
     "start_time": "2022-08-31T15:34:46.481759",
     "status": "completed"
    },
    "tags": []
   },
   "source": [
    "### Is the distribution of accidents same in weekdays and weekends?"
   ]
  },
  {
   "cell_type": "markdown",
   "id": "ce015614",
   "metadata": {
    "papermill": {
     "duration": 0.060891,
     "end_time": "2022-08-31T15:34:46.663617",
     "exception": false,
     "start_time": "2022-08-31T15:34:46.602726",
     "status": "completed"
    },
    "tags": []
   },
   "source": []
  },
  {
   "cell_type": "code",
   "execution_count": 29,
   "id": "bd20164a",
   "metadata": {
    "execution": {
     "iopub.execute_input": "2022-08-31T15:34:46.788144Z",
     "iopub.status.busy": "2022-08-31T15:34:46.787187Z",
     "iopub.status.idle": "2022-08-31T15:34:47.126927Z",
     "shell.execute_reply": "2022-08-31T15:34:47.125948Z"
    },
    "papermill": {
     "duration": 0.405124,
     "end_time": "2022-08-31T15:34:47.129403",
     "exception": false,
     "start_time": "2022-08-31T15:34:46.724279",
     "status": "completed"
    },
    "tags": []
   },
   "outputs": [],
   "source": [
    "sundays_start_time=df.Start_Time[df.Start_Time.dt.dayofweek == 6]"
   ]
  },
  {
   "cell_type": "code",
   "execution_count": 30,
   "id": "91fb0e9b",
   "metadata": {
    "execution": {
     "iopub.execute_input": "2022-08-31T15:34:47.251290Z",
     "iopub.status.busy": "2022-08-31T15:34:47.250971Z",
     "iopub.status.idle": "2022-08-31T15:34:47.534128Z",
     "shell.execute_reply": "2022-08-31T15:34:47.533201Z"
    },
    "papermill": {
     "duration": 0.346507,
     "end_time": "2022-08-31T15:34:47.536398",
     "exception": false,
     "start_time": "2022-08-31T15:34:47.189891",
     "status": "completed"
    },
    "tags": []
   },
   "outputs": [
    {
     "data": {
      "text/plain": [
       "<AxesSubplot:xlabel='Start_Time'>"
      ]
     },
     "execution_count": 30,
     "metadata": {},
     "output_type": "execute_result"
    },
    {
     "data": {
      "image/png": "[encoded data removed]",
      "text/plain": [
       "<Figure size 432x288 with 1 Axes>"
      ]
     },
     "metadata": {},
     "output_type": "display_data"
    }
   ],
   "source": [
    "sns.distplot(sundays_start_time.dt.hour,bins=24,norm_hist=True,kde=False)"
   ]
  },
  {
   "cell_type": "code",
   "execution_count": 31,
   "id": "12139699",
   "metadata": {
    "execution": {
     "iopub.execute_input": "2022-08-31T15:34:47.663556Z",
     "iopub.status.busy": "2022-08-31T15:34:47.662901Z",
     "iopub.status.idle": "2022-08-31T15:34:48.003497Z",
     "shell.execute_reply": "2022-08-31T15:34:48.002689Z"
    },
    "papermill": {
     "duration": 0.406753,
     "end_time": "2022-08-31T15:34:48.005982",
     "exception": false,
     "start_time": "2022-08-31T15:34:47.599229",
     "status": "completed"
    },
    "tags": []
   },
   "outputs": [],
   "source": [
    "mondays_start_time=df.Start_Time[df.Start_Time.dt.dayofweek == 0]"
   ]
  },
  {
   "cell_type": "code",
   "execution_count": 32,
   "id": "fbcd4db6",
   "metadata": {
    "execution": {
     "iopub.execute_input": "2022-08-31T15:34:48.131039Z",
     "iopub.status.busy": "2022-08-31T15:34:48.130721Z",
     "iopub.status.idle": "2022-08-31T15:34:48.432043Z",
     "shell.execute_reply": "2022-08-31T15:34:48.430867Z"
    },
    "papermill": {
     "duration": 0.366311,
     "end_time": "2022-08-31T15:34:48.434450",
     "exception": false,
     "start_time": "2022-08-31T15:34:48.068139",
     "status": "completed"
    },
    "tags": []
   },
   "outputs": [
    {
     "data": {
      "text/plain": [
       "<AxesSubplot:xlabel='Start_Time'>"
      ]
     },
     "execution_count": 32,
     "metadata": {},
     "output_type": "execute_result"
    },
    {
     "data": {
      "image/png": "[encoded data removed]",
      "text/plain": [
       "<Figure size 432x288 with 1 Axes>"
      ]
     },
     "metadata": {},
     "output_type": "display_data"
    }
   ],
   "source": [
    "sns.distplot(mondays_start_time.dt.hour,bins=24,norm_hist=True,kde=False)"
   ]
  },
  {
   "cell_type": "markdown",
   "id": "4506e47e",
   "metadata": {
    "papermill": {
     "duration": 0.063528,
     "end_time": "2022-08-31T15:34:48.562963",
     "exception": false,
     "start_time": "2022-08-31T15:34:48.499435",
     "status": "completed"
    },
    "tags": []
   },
   "source": [
    "Observations: The distribution of the time for most of the acidents during weekdays and weekends vary differently. \n",
    "1. In weekdays most frequent acidents occur between 6 am to 10 am and 6 pm and 8 pm.\n",
    "2. In weekends most frequent acidents occur between 10 am to 8 pm.\n",
    "    "
   ]
  },
  {
   "cell_type": "code",
   "execution_count": 33,
   "id": "34450319",
   "metadata": {
    "execution": {
     "iopub.execute_input": "2022-08-31T15:34:48.690167Z",
     "iopub.status.busy": "2022-08-31T15:34:48.689335Z",
     "iopub.status.idle": "2022-08-31T15:34:49.298758Z",
     "shell.execute_reply": "2022-08-31T15:34:49.297707Z"
    },
    "papermill": {
     "duration": 0.675982,
     "end_time": "2022-08-31T15:34:49.301506",
     "exception": false,
     "start_time": "2022-08-31T15:34:48.625524",
     "status": "completed"
    },
    "tags": []
   },
   "outputs": [
    {
     "data": {
      "text/plain": [
       "<AxesSubplot:xlabel='Start_Time'>"
      ]
     },
     "execution_count": 33,
     "metadata": {},
     "output_type": "execute_result"
    },
    {
     "data": {
      "image/png": "[encoded data removed]",
      "text/plain": [
       "<Figure size 432x288 with 1 Axes>"
      ]
     },
     "metadata": {},
     "output_type": "display_data"
    }
   ],
   "source": [
    "sns.distplot(df.Start_Time.dt.month,bins=12,norm_hist=True,kde=False)"
   ]
  },
  {
   "cell_type": "markdown",
   "id": "7b807f9a",
   "metadata": {
    "papermill": {
     "duration": 0.063897,
     "end_time": "2022-08-31T15:34:49.429301",
     "exception": false,
     "start_time": "2022-08-31T15:34:49.365404",
     "status": "completed"
    },
    "tags": []
   },
   "source": [
    "Observation : The frequency of the accidents seem to increase towards the end of the year. "
   ]
  },
  {
   "cell_type": "markdown",
   "id": "a542a49d",
   "metadata": {
    "papermill": {
     "duration": 0.063436,
     "end_time": "2022-08-31T15:34:49.556659",
     "exception": false,
     "start_time": "2022-08-31T15:34:49.493223",
     "status": "completed"
    },
    "tags": []
   },
   "source": [
    "## StartLat And StartLong"
   ]
  },
  {
   "cell_type": "code",
   "execution_count": 34,
   "id": "0ff96bb7",
   "metadata": {
    "execution": {
     "iopub.execute_input": "2022-08-31T15:34:49.688397Z",
     "iopub.status.busy": "2022-08-31T15:34:49.687953Z",
     "iopub.status.idle": "2022-08-31T15:34:49.695297Z",
     "shell.execute_reply": "2022-08-31T15:34:49.694687Z"
    },
    "papermill": {
     "duration": 0.076302,
     "end_time": "2022-08-31T15:34:49.697239",
     "exception": false,
     "start_time": "2022-08-31T15:34:49.620937",
     "status": "completed"
    },
    "tags": []
   },
   "outputs": [
    {
     "data": {
      "text/plain": [
       "0          40.108910\n",
       "1          39.865420\n",
       "2          39.102660\n",
       "3          41.062130\n",
       "4          39.172393\n",
       "             ...    \n",
       "2845337    34.002480\n",
       "2845338    32.766960\n",
       "2845339    33.775450\n",
       "2845340    33.992460\n",
       "2845341    34.133930\n",
       "Name: Start_Lat, Length: 2845342, dtype: float64"
      ]
     },
     "execution_count": 34,
     "metadata": {},
     "output_type": "execute_result"
    }
   ],
   "source": [
    "df.Start_Lat"
   ]
  },
  {
   "cell_type": "code",
   "execution_count": 35,
   "id": "f0af1bbb",
   "metadata": {
    "execution": {
     "iopub.execute_input": "2022-08-31T15:34:49.829018Z",
     "iopub.status.busy": "2022-08-31T15:34:49.828375Z",
     "iopub.status.idle": "2022-08-31T15:34:49.835776Z",
     "shell.execute_reply": "2022-08-31T15:34:49.835153Z"
    },
    "papermill": {
     "duration": 0.075111,
     "end_time": "2022-08-31T15:34:49.837621",
     "exception": false,
     "start_time": "2022-08-31T15:34:49.762510",
     "status": "completed"
    },
    "tags": []
   },
   "outputs": [
    {
     "data": {
      "text/plain": [
       "0          -83.092860\n",
       "1          -84.062800\n",
       "2          -84.524680\n",
       "3          -81.537840\n",
       "4          -84.492792\n",
       "              ...    \n",
       "2845337   -117.379360\n",
       "2845338   -117.148060\n",
       "2845339   -117.847790\n",
       "2845340   -118.403020\n",
       "2845341   -117.230920\n",
       "Name: Start_Lng, Length: 2845342, dtype: float64"
      ]
     },
     "execution_count": 35,
     "metadata": {},
     "output_type": "execute_result"
    }
   ],
   "source": [
    "df.Start_Lng"
   ]
  },
  {
   "cell_type": "markdown",
   "id": "2a8d42f6",
   "metadata": {
    "papermill": {
     "duration": 0.066192,
     "end_time": "2022-08-31T15:34:49.969436",
     "exception": false,
     "start_time": "2022-08-31T15:34:49.903244",
     "status": "completed"
    },
    "tags": []
   },
   "source": [
    "Since the datframe is very big, so we will use a prtion of the sample."
   ]
  },
  {
   "cell_type": "code",
   "execution_count": 36,
   "id": "cfed9be5",
   "metadata": {
    "execution": {
     "iopub.execute_input": "2022-08-31T15:34:50.100341Z",
     "iopub.status.busy": "2022-08-31T15:34:50.099761Z",
     "iopub.status.idle": "2022-08-31T15:34:50.937280Z",
     "shell.execute_reply": "2022-08-31T15:34:50.936233Z"
    },
    "papermill": {
     "duration": 0.905777,
     "end_time": "2022-08-31T15:34:50.939918",
     "exception": false,
     "start_time": "2022-08-31T15:34:50.034141",
     "status": "completed"
    },
    "tags": []
   },
   "outputs": [],
   "source": [
    "df_10percent=df.sample(int(0.1 * len(df)))"
   ]
  },
  {
   "cell_type": "code",
   "execution_count": 37,
   "id": "05afff53",
   "metadata": {
    "execution": {
     "iopub.execute_input": "2022-08-31T15:34:51.073444Z",
     "iopub.status.busy": "2022-08-31T15:34:51.072882Z",
     "iopub.status.idle": "2022-08-31T15:35:00.632927Z",
     "shell.execute_reply": "2022-08-31T15:35:00.632213Z"
    },
    "papermill": {
     "duration": 9.630913,
     "end_time": "2022-08-31T15:35:00.636409",
     "exception": false,
     "start_time": "2022-08-31T15:34:51.005496",
     "status": "completed"
    },
    "tags": []
   },
   "outputs": [
    {
     "data": {
      "text/plain": [
       "<AxesSubplot:xlabel='Start_Lng', ylabel='Start_Lat'>"
      ]
     },
     "execution_count": 37,
     "metadata": {},
     "output_type": "execute_result"
    },
    {
     "data": {
      "image/png": "[encoded data removed]",
      "text/plain": [
       "<Figure size 432x288 with 1 Axes>"
      ]
     },
     "metadata": {},
     "output_type": "display_data"
    }
   ],
   "source": [
    "sns.scatterplot(x=df_10percent.Start_Lng, y=df_10percent.Start_Lat, size=0.001)"
   ]
  },
  {
   "cell_type": "markdown",
   "id": "6142d58e",
   "metadata": {
    "papermill": {
     "duration": 0.069922,
     "end_time": "2022-08-31T15:35:00.777390",
     "exception": false,
     "start_time": "2022-08-31T15:35:00.707468",
     "status": "completed"
    },
    "tags": []
   },
   "source": []
  },
  {
   "cell_type": "markdown",
   "id": "fb91b01e",
   "metadata": {
    "papermill": {
     "duration": 0.068952,
     "end_time": "2022-08-31T15:35:00.916759",
     "exception": false,
     "start_time": "2022-08-31T15:35:00.847807",
     "status": "completed"
    },
    "tags": []
   },
   "source": [
    "Questions :\n",
    "1. Are there more accidents in warmer or colder areas?\n",
    "2. Which 5 states has most number of accidents?\n",
    "3. Why New York data is not present although it is the most populated city?\n",
    "4. Out of top 100 cities, which state they belong to?\n",
    "5. What time of the day are accidents more frequent?\n",
    "6. Which days of the week has the most no of accidents?\n",
    "7. Which month has the most no of accidents?\n",
    "8. What is the trend of accidents over the years?\n"
   ]
  },
  {
   "cell_type": "code",
   "execution_count": null,
   "id": "9d2f62e1",
   "metadata": {
    "papermill": {
     "duration": 0.069095,
     "end_time": "2022-08-31T15:35:01.055409",
     "exception": false,
     "start_time": "2022-08-31T15:35:00.986314",
     "status": "completed"
    },
    "tags": []
   },
   "outputs": [],
   "source": []
  }
 ],
 "metadata": {
  "kernelspec": {
   "display_name": "Python 3",
   "language": "python",
   "name": "python3"
  },
  "language_info": {
   "codemirror_mode": {
    "name": "ipython",
    "version": 3
   },
   "file_extension": ".py",
   "mimetype": "text/x-python",
   "name": "python",
   "nbconvert_exporter": "python",
   "pygments_lexer": "ipython3",
   "version": "3.7.12"
  },
  "papermill": {
   "default_parameters": {},
   "duration": 85.641019,
   "end_time": "2022-08-31T15:35:02.748516",
   "environment_variables": {},
   "exception": null,
   "input_path": "__notebook__.ipynb",
   "output_path": "__notebook__.ipynb",
   "parameters": {},
   "start_time": "2022-08-31T15:33:37.107497",
   "version": "2.3.4"
  }
 },
 "nbformat": 4,
 "nbformat_minor": 5
}
